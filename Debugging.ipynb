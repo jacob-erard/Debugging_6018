{
 "cells": [
  {
   "cell_type": "code",
   "execution_count": 41,
   "id": "9722548e-8b60-4bcb-b64d-bd44e8debf20",
   "metadata": {},
   "outputs": [
    {
     "name": "stdout",
     "output_type": "stream",
     "text": [
      "the mistake happens in this loop\n",
      "expected output: [4],  actual output: [6]\n",
      "the mistake happens in this loop\n",
      "expected output: [5],  actual output: [9]\n",
      "the mistake happens in this loop\n",
      "expected output: [6],  actual output: [12]\n"
     ]
    },
    {
     "data": {
      "text/plain": [
       "[6, 9, 12]"
      ]
     },
     "execution_count": 41,
     "metadata": {},
     "output_type": "execute_result"
    }
   ],
   "source": [
    "# 1a\n",
    "def wrong_add_function(arg1,arg2):\n",
    "    '''\n",
    "   The function takes in two lists of integers, then it adds\n",
    "   all of arg2 to each item of arg1.\n",
    "   \n",
    "   Example:\n",
    "      > wrong_add_function([1,2,3],[1,1,1])\n",
    "      > [6,9,12]\n",
    "\n",
    "   whereas the expected correct answer is, [2,3,4]\n",
    "\n",
    "   Parameters\n",
    "   ----------\n",
    "   arg1 : list\n",
    "      list of integers.\n",
    "   arg2 : list\n",
    "      list of integers.\n",
    "\n",
    "   Returns\n",
    "   -------\n",
    "   arg1 : list\n",
    "      Elements of arg1, with each element having had the contents of \n",
    "      arg2 added to it.\n",
    "\n",
    "   '''\n",
    "    #starting at the first index of arg1\n",
    "    arg1_index=0\n",
    "    # going until we reach the length of arg1\n",
    "    while arg1_index < len(arg1):\n",
    "        # the total of arg2\n",
    "        arg_2_sum = 0\n",
    "        print('the mistake happens in this loop')\n",
    "        # for each element in arg 2\n",
    "        for arg2_elements in arg2:\n",
    "            # the total of arg 2 is the sum of each element in arg2 + the element in arg1 three times.\n",
    "            arg_2_sum = sum([arg1[arg1_index]+i for i in arg2])\n",
    "        print(f\"expected output: [{sum(arg2[i] for i in arg2) + arg1[arg1_index]}],  actual output: [{arg_2_sum}]\")\n",
    "        arg1[arg1_index]=arg_2_sum  \n",
    "        arg1_index+=1\n",
    "    return arg1\n",
    "\n",
    "arg1 = [1,2,3]\n",
    "arg2 = [1,1,1]\n",
    "\n",
    "wrong_add_function(arg1, arg2)"
   ]
  },
  {
   "cell_type": "code",
   "execution_count": 42,
   "id": "0dcda00c-a980-43ab-abe8-faa615b7e924",
   "metadata": {},
   "outputs": [
    {
     "data": {
      "text/plain": [
       "[4, 5, 6]"
      ]
     },
     "execution_count": 42,
     "metadata": {},
     "output_type": "execute_result"
    }
   ],
   "source": [
    "#1b\n",
    "def correct_add_function(arg1,arg2):\n",
    "    \n",
    "   arg1_index=0\n",
    "   while arg1_index < len(arg1):\n",
    "      arg_2_sum = 0\n",
    "       # The for loop was unnecessary, as you can add the sum of arg2 (built in function) to arg1's current index.\n",
    "      arg_2_sum = sum(arg2) + arg1[arg1_index]\n",
    "      arg1[arg1_index]=arg_2_sum  \n",
    "      arg1_index+=1\n",
    "   return arg1\n",
    "\n",
    "arg1 = [1,2,3]\n",
    "arg2 = [1,1,1]\n",
    "\n",
    "correct_add_function(arg1, arg2)"
   ]
  },
  {
   "cell_type": "code",
   "execution_count": 43,
   "id": "46e03812-48c8-47be-83a7-0de82e6c01bd",
   "metadata": {},
   "outputs": [
    {
     "data": {
      "text/plain": [
       "'Item 1 at index 2 in arg2 is not of the expected type (str). Correct this item then rerun.'"
      ]
     },
     "execution_count": 43,
     "metadata": {},
     "output_type": "execute_result"
    }
   ],
   "source": [
    "#2b\n",
    "def exception_add_function(arg1,arg2):\n",
    "    try:\n",
    "    #numeric section\n",
    "        if sum([type(i)==int for i in arg1])==len(arg1) and \\\n",
    "        sum([type(i)==int for i in arg2])==len(arg2):\n",
    "            arg1_index=0\n",
    "            while arg1_index < len(arg1):\n",
    "                arg_2_sum = 0\n",
    "                arg_2_sum = sum(arg2) + arg1[arg1_index]\n",
    "                arg1[arg1_index]=arg_2_sum  \n",
    "                arg1_index+=1\n",
    "                #end while loop\n",
    "            return arg1\n",
    "            \n",
    "    #string section\n",
    "        elif sum([type(i)==str for i in arg1])==len(arg1) and \\\n",
    "        sum([type(i)==str for i in arg2])==len(arg2):\n",
    "            arg1_index=0\n",
    "            while arg1_index < len(arg1):\n",
    "                arg_2_sum = ''\n",
    "                for arg2_elements in arg2:\n",
    "                    arg_2_sum += arg2_elements\n",
    "                arg1[arg1_index]=arg1[arg1_index]+str(arg_2_sum)\n",
    "                arg1_index+=1\n",
    "            return arg1\n",
    "        else: \n",
    "            raise TypeError\n",
    "    except TypeError:\n",
    "            # Check if the first elements of arg1 and arg2 are of different types\n",
    "        if type(arg1[0]) != type(arg2[0]):\n",
    "            return \"These lists are of different types. Fix the types and then rerun.\"\n",
    "    \n",
    "        # Check if arg1 is either all strings or all integers\n",
    "        if isinstance(arg1[0], str):\n",
    "            # Ensure all elements in arg1 are strings\n",
    "            for i, elem in enumerate(arg1):\n",
    "                if not isinstance(elem, str):\n",
    "                    return f\"Item {elem} at index {i} in arg1 is not of the expected type (str). Correct this item then rerun.\"\n",
    "        elif isinstance(arg1[0], int):\n",
    "            # Ensure all elements in arg1 are integers\n",
    "            for i, elem in enumerate(arg1):\n",
    "                if not isinstance(elem, int):\n",
    "                    return f\"Item {elem} at index {i} in arg1 is not of the expected type (int). Correct this item then rerun.\"\n",
    "    \n",
    "        # Check if arg2 is either all strings or all integers\n",
    "        if isinstance(arg2[0], str):\n",
    "            # Ensure all elements in arg2 are strings\n",
    "            for i, elem in enumerate(arg2):\n",
    "                if not isinstance(elem, str):\n",
    "                    return f\"Item {elem} at index {i} in arg2 is not of the expected type (str). Correct this item then rerun.\"\n",
    "        elif isinstance(arg2[0], int):\n",
    "            # Ensure all elements in arg2 are integers\n",
    "            for i, elem in enumerate(arg2):\n",
    "                if not isinstance(elem, int):\n",
    "                    return f\"Item {elem} at index {i} in arg2 is not of the expected type (int). Correct this item then rerun.\"\n",
    "arg_str_1=['1','2','3']\n",
    "arg_str_2=['1','1', 1]\n",
    "\n",
    "exception_add_function(arg_str_1,arg_str_2)"
   ]
  },
  {
   "cell_type": "code",
   "execution_count": 38,
   "id": "0b84efaf-e644-41e4-ab07-5cb4ac595340",
   "metadata": {},
   "outputs": [
    {
     "data": {
      "text/plain": [
       "['1111', '2111', '3111']"
      ]
     },
     "execution_count": 38,
     "metadata": {},
     "output_type": "execute_result"
    }
   ],
   "source": [
    "# 2.c\n",
    "def wrong_add_function(arg1,arg2):\n",
    "    '''\n",
    "    The function takes in two lists of integers, then it adds\n",
    "    all of arg2 to each item of arg1.\n",
    "    \n",
    "    Example:\n",
    "    > wrong_add_function([1,2,3],[1,1,1])\n",
    "    > [4,5,6]\n",
    "    \n",
    "    If the lists are lists of strings, concatenate them\n",
    "    Example:\n",
    "    > wrong_add_function(['1','2','3'],['1','1','1'])\n",
    "    > ['1111','2111','3111']\n",
    "    Parameters\n",
    "    ----------\n",
    "    arg1 : list\n",
    "    list of integers.\n",
    "    arg2 : list\n",
    "    list of integers.\n",
    "    \n",
    "    Returns\n",
    "    -------\n",
    "    arg1 : list\n",
    "    Elements of arg1, with each element having had the contents of \n",
    "    arg2 added to it.\n",
    "    \n",
    "    '''\n",
    "    try:\n",
    "        #numeric section\n",
    "        if sum([type(i)==int for i in arg1])==len(arg1) and \\\n",
    "        sum([type(i)==int for i in arg2])==len(arg2):\n",
    "            arg1_index=0\n",
    "            while arg1_index < len(arg1):\n",
    "                arg_2_sum = 0\n",
    "                arg_2_sum = sum(arg2) + arg1[arg1_index]\n",
    "                arg1[arg1_index]=arg_2_sum  \n",
    "                arg1_index+=1\n",
    "            return arg1\n",
    "        #string section\n",
    "        elif sum([type(i)==str for i in arg1])==len(arg1) and \\\n",
    "        sum([type(i)==str for i in arg2])==len(arg2):\n",
    "            arg1_index=0\n",
    "            while arg1_index < len(arg1):\n",
    "                arg_2_sum = ''\n",
    "                for arg2_elements in arg2:\n",
    "                    arg_2_sum += arg2_elements\n",
    "                arg1[arg1_index]=arg1[arg1_index]+str(arg_2_sum)\n",
    "                arg1_index+=1\n",
    "            return arg1\n",
    "        else: raise TypeError\n",
    "    except:\n",
    "        # If they aren't all strings or integers, call this function\n",
    "        return correct_add_function(arg1, arg2)\n",
    "\n",
    "# 2.c\n",
    "def correct_add_function(arg1, arg2):\n",
    "    # set the value of arg2 to be the concatenated version of arg2. .join is basically the sum() function for concatenating strings. It requires\n",
    "    # a string and a sequence to work.\n",
    "    arg2_value = \"\".join(str(i) for i in arg2)\n",
    "    # For every value in item one, concatenate it with the value of arg2_value\n",
    "    for i in range(len(arg1)):\n",
    "        arg1[i] = str(arg1[i]) + arg2_value\n",
    "    # Return the array with its concatenated version.\n",
    "    return arg1\n",
    "        \n",
    "arg_str_1=['1','2','3']\n",
    "arg_str_2=['1','1', 1]\n",
    "\n",
    "wrong_add_function(arg_str_1,arg_str_2)"
   ]
  }
 ],
 "metadata": {
  "kernelspec": {
   "display_name": "Python 3 (ipykernel)",
   "language": "python",
   "name": "python3"
  },
  "language_info": {
   "codemirror_mode": {
    "name": "ipython",
    "version": 3
   },
   "file_extension": ".py",
   "mimetype": "text/x-python",
   "name": "python",
   "nbconvert_exporter": "python",
   "pygments_lexer": "ipython3",
   "version": "3.12.5"
  }
 },
 "nbformat": 4,
 "nbformat_minor": 5
}
